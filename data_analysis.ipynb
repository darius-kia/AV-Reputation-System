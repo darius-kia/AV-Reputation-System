{
 "cells": [
  {
   "cell_type": "code",
   "execution_count": 9,
   "id": "c2f7fad7",
   "metadata": {},
   "outputs": [],
   "source": [
    "import pandas as pd\n",
    "import re"
   ]
  },
  {
   "cell_type": "code",
   "execution_count": 10,
   "id": "96e85d3d",
   "metadata": {},
   "outputs": [],
   "source": [
    "df = pd.read_csv(\"output.csv\")"
   ]
  },
  {
   "cell_type": "code",
   "execution_count": 32,
   "id": "7401e01b",
   "metadata": {},
   "outputs": [
    {
     "name": "stdout",
     "output_type": "stream",
     "text": [
      "0.17449622341467158\n",
      "0.16323944571157287\n",
      "0.16282198724995234\n",
      "0.16348696310745459\n",
      "0.16873306754836556\n"
     ]
    }
   ],
   "source": [
    "op_errs = []\n",
    "for index, row in df.iterrows():\n",
    "    i = row['operatingScores']\n",
    "    diffs = []\n",
    "    avs = i.split(\",\")\n",
    "    for a_str in avs:\n",
    "        status = re.search(r\"\\((\\w+)\\)\", a_str).group(1)\n",
    "        score = float(re.search(r\"\\d\\.\\d+\", a_str).group())\n",
    "        expected = 1 if status == \"NORM\" or status == \"MAL_REP\" else 0\n",
    "        diffs.append(abs(expected-score))\n",
    "    op_errs.append(sum(diffs)/len(diffs))\n",
    "print(op_errs)"
   ]
  },
  {
   "cell_type": "code",
   "execution_count": 33,
   "id": "5e710a4f",
   "metadata": {},
   "outputs": [
    {
     "name": "stdout",
     "output_type": "stream",
     "text": [
      "[0.15458736267641904, 0.1584416059642858, 0.16050961566795766, 0.15288044411476343, 0.1627783068374507]\n"
     ]
    }
   ],
   "source": [
    "rep_errs = []\n",
    "for index, row in df.iterrows():\n",
    "    i = row['reportingScores']\n",
    "    diffs = []\n",
    "    avs = i.split(\",\")\n",
    "    for a_str in avs:\n",
    "        status = re.search(r\"\\((\\w+)\\)\", a_str).group(1)\n",
    "        score = float(re.search(r\"\\d\\.\\d+\", a_str).group())\n",
    "        expected = 1 if status == \"NORM\" or status == \"MAL_OP\" else 0\n",
    "        diffs.append(abs(expected-score))\n",
    "    rep_errs.append(sum(diffs)/len(diffs))\n",
    "print(rep_errs)"
   ]
  },
  {
   "cell_type": "code",
   "execution_count": null,
   "id": "ece00efc",
   "metadata": {},
   "outputs": [],
   "source": []
  }
 ],
 "metadata": {
  "kernelspec": {
   "display_name": "Python 3",
   "language": "python",
   "name": "python3"
  },
  "language_info": {
   "codemirror_mode": {
    "name": "ipython",
    "version": 3
   },
   "file_extension": ".py",
   "mimetype": "text/x-python",
   "name": "python",
   "nbconvert_exporter": "python",
   "pygments_lexer": "ipython3",
   "version": "3.8.5"
  }
 },
 "nbformat": 4,
 "nbformat_minor": 5
}
