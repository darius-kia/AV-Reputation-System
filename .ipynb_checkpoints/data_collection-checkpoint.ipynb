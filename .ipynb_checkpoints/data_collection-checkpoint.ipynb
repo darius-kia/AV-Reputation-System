{
 "cells": [
  {
   "cell_type": "markdown",
   "id": "3e5b6625",
   "metadata": {},
   "source": [
    "# Import Packages"
   ]
  },
  {
   "cell_type": "code",
   "execution_count": null,
   "id": "630a4dde",
   "metadata": {},
   "outputs": [],
   "source": [
    "import pandas as pd"
   ]
  },
  {
   "cell_type": "markdown",
   "id": "6cd45d67",
   "metadata": {},
   "source": [
    "# Load Files"
   ]
  },
  {
   "cell_type": "code",
   "execution_count": null,
   "id": "823facf8",
   "metadata": {},
   "outputs": [],
   "source": [
    "args = sys.argv\n",
    "assert(len(args[1:]) == 8), \"Must include all 8 scenario files\""
   ]
  },
  {
   "cell_type": "markdown",
   "id": "32edef17",
   "metadata": {},
   "source": [
    "## Scenario 1 Collection"
   ]
  },
  {
   "cell_type": "code",
   "execution_count": null,
   "id": "51bce06b",
   "metadata": {},
   "outputs": [],
   "source": [
    "scenario1_path = args[1]\n",
    "s1 = pd.read_csv(scenario1_path)"
   ]
  },
  {
   "cell_type": "code",
   "execution_count": null,
   "id": "5caaebea",
   "metadata": {},
   "outputs": [],
   "source": [
    "# effect from velocity\n",
    "vel = s1[\n",
    "    (s1['byWitnessRep'] == False) & \n",
    "    (s1['byNumWitnesses'] == False) & \n",
    "    (s1['kNumWitnesses'] == 2.0) &\n",
    "    (s1['useQuartiles'] == False)\n",
    "]\n",
    "vel[['velocity', 'operatingError', 'reportingError']].to_csv(\"0_velocity.csv\")"
   ]
  },
  {
   "cell_type": "code",
   "execution_count": null,
   "id": "3f00fd42",
   "metadata": {},
   "outputs": [],
   "source": [
    "# effect from byWitnessRep\n",
    "bWR = s1[\n",
    "    (s1['velocity'] == 0.1) & \n",
    "    (s1['byNumWitnesses'] == False) & \n",
    "    (s1['kNumWitnesses'] == 2.0) &\n",
    "    (s1['useQuartiles'] == False)\n",
    "]\n",
    "bWR[['byWitnessRep', 'operatingError', 'reportingError']].to_csv(\"1_byWitnessRep.csv\")"
   ]
  },
  {
   "cell_type": "code",
   "execution_count": null,
   "id": "d76438ec",
   "metadata": {},
   "outputs": [],
   "source": [
    "# effect from byNumWitnesses\n",
    "bNW = s1[\n",
    "    (s1['velocity'] == 0.1) & \n",
    "    (s1['byWitnessRep'] == False) & \n",
    "    (s1['kNumWitnesses'] == 2.0) &\n",
    "    (s1['useQuartiles'] == False)\n",
    "]\n",
    "bNW[['byNumWitnesses', 'operatingError', 'reportingError']].to_csv(\"2_byNumWitnesses.csv\")"
   ]
  },
  {
   "cell_type": "code",
   "execution_count": null,
   "id": "3ac038a7",
   "metadata": {},
   "outputs": [],
   "source": [
    "# effect from kNumWitnesses\n",
    "kNW = s1[\n",
    "    (s1['velocity'] == 0.1) & \n",
    "    (s1['byWitnessRep'] == False) & \n",
    "    (s1['byNumWitnesses'] == False) &\n",
    "    (s1['useQuartiles'] == False)\n",
    "][['kNumWitnesses', 'operatingError', 'reportingError']]\n",
    "kNW.to_csv(\"3_kNumWitnesses.csv\")"
   ]
  },
  {
   "cell_type": "code",
   "execution_count": null,
   "id": "50f2d0a8",
   "metadata": {},
   "outputs": [],
   "source": [
    "# effect from useQuartiles\n",
    "useQuartiles = s1[\n",
    "    (s1['velocity'] == 0.1) & \n",
    "    (s1['byWitnessRep'] == False) & \n",
    "    (s1['byNumWitnesses'] == False) &\n",
    "    (s1['kNumWitnesses'] == 2.0) \n",
    "][['useQuartiles', 'operatingError', 'reportingError']]\n",
    "useQuartiles.to_csv(\"4_useQuartiles.csv\")"
   ]
  },
  {
   "cell_type": "markdown",
   "id": "40cd2029",
   "metadata": {},
   "source": [
    "## Scenario 2 Collection"
   ]
  },
  {
   "cell_type": "code",
   "execution_count": null,
   "id": "14177e07",
   "metadata": {},
   "outputs": [],
   "source": [
    "scenario2_path = args[2]\n",
    "s2 = pd.read_csv(scenario2_path)"
   ]
  },
  {
   "cell_type": "code",
   "execution_count": null,
   "id": "d1db273b",
   "metadata": {},
   "outputs": [],
   "source": [
    "# high concentration of malicious vehicles\n",
    "malEnv = s2[\n",
    "    (s2['velocity'] == 0.1) & \n",
    "    (s2['byWitnessRep'] == False) & \n",
    "    (s2['byNumWitnesses'] == False) &\n",
    "    (s2['kNumWitnesses'] == 2.0) &\n",
    "    (s2['useQuartiles'] == False)\n",
    "][['propNormal', 'operatingError', 'reportingError']]\n",
    "malEnv.to_csv(\"5_malEnv.csv\")"
   ]
  },
  {
   "cell_type": "markdown",
   "id": "7d910357",
   "metadata": {},
   "source": [
    "## Scenario 3 Collection"
   ]
  },
  {
   "cell_type": "code",
   "execution_count": null,
   "id": "5792275e",
   "metadata": {},
   "outputs": [],
   "source": [
    "scenario3_path = args[3]\n",
    "s3 = pd.read_csv(scenario3_path)"
   ]
  },
  {
   "cell_type": "code",
   "execution_count": null,
   "id": "7b47b694",
   "metadata": {},
   "outputs": [],
   "source": [
    "# high noise environment\n",
    "highNoise = s3[\n",
    "    (s3['velocity'] == 0.1) & \n",
    "    (s3['byWitnessRep'] == False) & \n",
    "    (s3['byNumWitnesses'] == False) &\n",
    "    (s3['kNumWitnesses'] == 2.0) &\n",
    "    (s3['useQuartiles'] == False)\n",
    "][['broadcastNoise', 'witnessNoise', 'operatingError', 'reportingError']]\n",
    "highNoise.to_csv(\"6_highNoise.csv\")"
   ]
  },
  {
   "cell_type": "markdown",
   "id": "4f07f904",
   "metadata": {},
   "source": [
    "## Scenario 4 Collection"
   ]
  },
  {
   "cell_type": "code",
   "execution_count": null,
   "id": "369c9fbe",
   "metadata": {},
   "outputs": [],
   "source": [
    "scenario4_path = args[4]\n",
    "s4 = pd.read_csv(scenario4_path)"
   ]
  },
  {
   "cell_type": "code",
   "execution_count": null,
   "id": "24fb9c08",
   "metadata": {},
   "outputs": [],
   "source": [
    "# large population\n",
    "largePopulation = s4[\n",
    "    (s4['velocity'] == 0.1) & \n",
    "    (s4['byWitnessRep'] == False) & \n",
    "    (s4['byNumWitnesses'] == False) &\n",
    "    (s4['kNumWitnesses'] == 2.0) &\n",
    "    (s4['useQuartiles'] == False)\n",
    "][['numVehicles', 'operatingError', 'reportingError']]\n",
    "largePopulation.to_csv(\"7_largePopulation.csv\")"
   ]
  },
  {
   "cell_type": "markdown",
   "id": "2c2c15d9",
   "metadata": {},
   "source": [
    "## Scenario 5 Collection"
   ]
  },
  {
   "cell_type": "code",
   "execution_count": null,
   "id": "261eee1f",
   "metadata": {},
   "outputs": [],
   "source": [
    "scenario5_path = args[5]\n",
    "s5 = pd.read_csv(scenario5_path)"
   ]
  },
  {
   "cell_type": "code",
   "execution_count": null,
   "id": "ba6f6368",
   "metadata": {},
   "outputs": [],
   "source": [
    "# dense population\n",
    "densePopulation = s5[\n",
    "    (s5['velocity'] == 0.1) & \n",
    "    (s5['byWitnessRep'] == False) & \n",
    "    (s5['byNumWitnesses'] == False) &\n",
    "    (s5['kNumWitnesses'] == 2.0) &\n",
    "    (s5['useQuartiles'] == False)\n",
    "][['propWitnesses', 'percTransaction', 'operatingError', 'reportingError']]\n",
    "densePopulation.to_csv(\"8_densePopulation.csv\")"
   ]
  },
  {
   "cell_type": "markdown",
   "id": "68205014",
   "metadata": {},
   "source": [
    "## Scenario 6 Collection"
   ]
  },
  {
   "cell_type": "code",
   "execution_count": null,
   "id": "a83fa7d4",
   "metadata": {},
   "outputs": [],
   "source": [
    "scenario6_path = args[6]\n",
    "s6 = pd.read_csv(scenario6_path)"
   ]
  },
  {
   "cell_type": "code",
   "execution_count": null,
   "id": "0cdd0cee",
   "metadata": {},
   "outputs": [],
   "source": [
    "# use malicious operating and reporting vehicles\n",
    "useMalOpRep = s6[\n",
    "    (s6['velocity'] == 0.1) & \n",
    "    (s6['byWitnessRep'] == False) & \n",
    "    (s6['byNumWitnesses'] == False) &\n",
    "    (s6['kNumWitnesses'] == 2.0) &\n",
    "    (s6['useQuartiles'] == False)\n",
    "][['useMalOp', 'useMalRep', 'operatingError', 'reportingError']]\n",
    "useMalOpRep.to_csv(\"9_useMalOpRep.csv\")"
   ]
  },
  {
   "cell_type": "markdown",
   "id": "aea52196",
   "metadata": {},
   "source": [
    "## Scenario 7 Collection"
   ]
  },
  {
   "cell_type": "code",
   "execution_count": null,
   "id": "51ac7ab8",
   "metadata": {},
   "outputs": [],
   "source": [
    "scenario7_path = args[7]\n",
    "s7 = pd.read_csv(scenario7_path)"
   ]
  },
  {
   "cell_type": "code",
   "execution_count": null,
   "id": "7f79a94a",
   "metadata": {},
   "outputs": [],
   "source": [
    "# different frequency of malicious vehicle transactions\n",
    "malFreq = s7[\n",
    "    (s7['velocity'] == 0.1) & \n",
    "    (s7['byWitnessRep'] == False) & \n",
    "    (s7['byNumWitnesses'] == False) &\n",
    "    (s7['kNumWitnesses'] == 2.0) &\n",
    "    (s7['useQuartiles'] == False)\n",
    "][['percMalicious', 'operatingError', 'reportingError']]\n",
    "malFreq.to_csv(\"10_malFreq.csv\")"
   ]
  },
  {
   "cell_type": "markdown",
   "id": "8ec42d77",
   "metadata": {},
   "source": [
    "## Scenario 8 Collection"
   ]
  },
  {
   "cell_type": "code",
   "execution_count": null,
   "id": "ffe58f6f",
   "metadata": {},
   "outputs": [],
   "source": [
    "scenario8_path = args[8]\n",
    "s8 = pd.read_csv(scenario8_path)"
   ]
  },
  {
   "cell_type": "code",
   "execution_count": null,
   "id": "5287384b",
   "metadata": {},
   "outputs": [],
   "source": [
    "# sparse population\n",
    "sparsePop = s8[\n",
    "    (s8['velocity'] == 0.1) & \n",
    "    (s8['byWitnessRep'] == False) & \n",
    "    (s8['byNumWitnesses'] == False) &\n",
    "    (s8['kNumWitnesses'] == 2.0) &\n",
    "    (s8['useQuartiles'] == False)\n",
    "][['numVehicles', 'minRecipients', 'maxRecipients', 'operatingError', 'reportingError']]\n",
    "sparsePop.to_csv(\"10_malFreq.csv\")"
   ]
  }
 ],
 "metadata": {
  "kernelspec": {
   "display_name": "Python 3",
   "language": "python",
   "name": "python3"
  },
  "language_info": {
   "codemirror_mode": {
    "name": "ipython",
    "version": 3
   },
   "file_extension": ".py",
   "mimetype": "text/x-python",
   "name": "python",
   "nbconvert_exporter": "python",
   "pygments_lexer": "ipython3",
   "version": "3.8.5"
  }
 },
 "nbformat": 4,
 "nbformat_minor": 5
}
